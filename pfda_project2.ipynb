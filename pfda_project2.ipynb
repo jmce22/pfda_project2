{
 "cells": [
  {
   "cell_type": "markdown",
   "metadata": {},
   "source": [
    "## Programming for Data Analysis - Project 2 ##\n",
    "\n",
    "**Name: James McEneaney** <br/><br/>\n",
    "**Course: Higher Diploma in Computing in Data Analytics, ATU Ireland** <br/><br/> \n",
    "**Semester: Semester 2 2023** <br/><br/>\n",
    "\n",
    "\n",
    "***"
   ]
  },
  {
   "cell_type": "markdown",
   "metadata": {},
   "source": [
    "### Introduction ###"
   ]
  },
  {
   "cell_type": "markdown",
   "metadata": {},
   "source": [
    "### Data-cleansing ###"
   ]
  },
  {
   "cell_type": "code",
   "execution_count": 2,
   "metadata": {},
   "outputs": [],
   "source": [
    "import matplotlib.pyplot as plt\n",
    "import numpy as np\n",
    "import pandas as pd\n",
    "import seaborn as sns\n",
    "import scipy.stats as ss "
   ]
  },
  {
   "cell_type": "code",
   "execution_count": 10,
   "metadata": {},
   "outputs": [
    {
     "name": "stdout",
     "output_type": "stream",
     "text": [
      "           Year     CO2  sigma mean CO2\n",
      "0        -51.03  368.02            0.06\n",
      "1        -48.00  361.78            0.37\n",
      "2        -46.28  359.65            0.10\n",
      "3        -44.41  357.11            0.16\n",
      "4        -43.08  353.95            0.04\n",
      "...         ...     ...             ...\n",
      "1896  803925.28  202.92            2.06\n",
      "1897  804009.87  207.50            0.92\n",
      "1898  804522.67  204.86            1.64\n",
      "1899  805132.44  202.23            0.69\n",
      "1900  805668.87  207.29            2.20\n",
      "\n",
      "[1901 rows x 3 columns]\n",
      "        Year    CO2\n",
      "0        137  280.4\n",
      "1        268  274.9\n",
      "2        279  277.9\n",
      "3        395  279.1\n",
      "4        404  281.9\n",
      "...      ...    ...\n",
      "1091  794608  199.4\n",
      "1092  795202  195.2\n",
      "1093  796467  189.3\n",
      "1094  797099  188.4\n",
      "1095  798512  191.0\n",
      "\n",
      "[1096 rows x 2 columns]\n"
     ]
    }
   ],
   "source": [
    "df_co2_ipcc = pd.read_csv(\"CO2_ipcc_csv.csv\")\n",
    "\n",
    "# rename column names\n",
    "df_co2_ipcc.rename(columns={'Gasage (yr BP) ': 'Year', 'CO2 (ppmv)': 'CO2', 'sigma mean CO2 (ppmv)': 'sigma mean CO2'}, inplace=True)\n",
    "\n",
    "\n",
    "df_co2_nature = pd.read_csv(\"CO2_nature_csv.csv\")\n",
    "\n",
    "df_co2_nature.rename(columns={'EDC3_gas_a (yr)': 'Year', 'CO2 (ppmv)': 'CO2'}, inplace=True)\n",
    "\n",
    "\n",
    "print(df_co2_ipcc)\n",
    "\n",
    "print(df_co2_nature)"
   ]
  },
  {
   "cell_type": "code",
   "execution_count": null,
   "metadata": {},
   "outputs": [],
   "source": [
    "sns.scatterplot(x='X', y='Y', data=df_co2_nature)"
   ]
  },
  {
   "cell_type": "markdown",
   "metadata": {},
   "source": [
    "### CO2 versus Temperature Anomoly ###"
   ]
  },
  {
   "cell_type": "markdown",
   "metadata": {},
   "source": [
    "### CH4 versus Temperature Anomoly ###"
   ]
  },
  {
   "cell_type": "markdown",
   "metadata": {},
   "source": [
    "### Climate change signals in the Irish context ###"
   ]
  },
  {
   "cell_type": "markdown",
   "metadata": {},
   "source": [
    "### Fusion of datasets ###"
   ]
  },
  {
   "cell_type": "markdown",
   "metadata": {},
   "source": [
    "### Prediction of Global Temperature Anomoly ###"
   ]
  },
  {
   "cell_type": "markdown",
   "metadata": {},
   "source": [
    "### Accelerating increases of temperature ###"
   ]
  },
  {
   "cell_type": "markdown",
   "metadata": {},
   "source": [
    "### Summary ###"
   ]
  },
  {
   "cell_type": "markdown",
   "metadata": {},
   "source": [
    "### References ###"
   ]
  }
 ],
 "metadata": {
  "kernelspec": {
   "display_name": "base",
   "language": "python",
   "name": "python3"
  },
  "language_info": {
   "codemirror_mode": {
    "name": "ipython",
    "version": 3
   },
   "file_extension": ".py",
   "mimetype": "text/x-python",
   "name": "python",
   "nbconvert_exporter": "python",
   "pygments_lexer": "ipython3",
   "version": "3.11.4"
  }
 },
 "nbformat": 4,
 "nbformat_minor": 2
}
