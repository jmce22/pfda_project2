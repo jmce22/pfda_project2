{
 "cells": [
  {
   "cell_type": "markdown",
   "metadata": {},
   "source": [
    "## Programming for Data Analysis - Project 2 ##\n",
    "\n",
    "**Name: James McEneaney** <br/><br/>\n",
    "**Course: Higher Diploma in Computing in Data Analytics, ATU Ireland** <br/><br/> \n",
    "**Semester: Semester 2 2023** <br/><br/>\n",
    "\n",
    "\n",
    "***"
   ]
  },
  {
   "cell_type": "markdown",
   "metadata": {},
   "source": [
    "### Introduction ###"
   ]
  },
  {
   "cell_type": "markdown",
   "metadata": {},
   "source": [
    "### Data-cleansing ###"
   ]
  },
  {
   "cell_type": "markdown",
   "metadata": {},
   "source": [
    "To begin, I will download the libraries I will use in this project. I will use pandas to create the dataframes which I will use to analyse the historical climate data:"
   ]
  },
  {
   "cell_type": "code",
   "execution_count": null,
   "metadata": {},
   "outputs": [],
   "source": [
    "import matplotlib.pyplot as plt\n",
    "import numpy as np\n",
    "import pandas as pd\n",
    "import seaborn as sns\n",
    "import scipy.stats as ss "
   ]
  },
  {
   "cell_type": "markdown",
   "metadata": {},
   "source": [
    "I have downloaded multiple climate related datasets online. These datasets were as follows:\n",
    "\n",
    "- Atmospheric carbon dioxide concentratons from report by the Intergovernmental Panel on Climate Change (IPCC)\n",
    "\n",
    "- Atmospheric carbon dioxide concentrations from a 2008 paper in Nature by Luthi et al.\n",
    "\n",
    "- Atmospheric carbon dioxide data from the Mauna Loa Observatory in Hawaii, providing annual data from 1959 to 2022.\n",
    "\n",
    "- Temperature estimates going back over 820,000 years based on the EPICA Dome C Ice Core Deuterium Data. EPICA stands for European Project for Ice Coring in Antarctica. It estimates past temperature using Deuterium as a proxy. Deuterium is a heavy form of hydrogen (containing a neutron in addition to the one proton found in \"light\" hydrogen). In colder periods weather, there tends to be less deuterium in ice cores than in warmer periods. The reason for this is that during warm periods, more of the lighter form of hydrogen is evaporated away from the surface of the ocean, so that when the moist air moves northwards to the poles, it contains a higher ratio of heavy hydrogen than it contains during cold periods; precipitation then contains more of this heavy hydrogen and this ultimately shows up in the ice cores. I will refer to this dataset as the \"Jouzel\" dataset for convenience (Jean Jouzel is a French glaciologist and climatologist who is one of the creators of the dataset)"
   ]
  },
  {
   "cell_type": "markdown",
   "metadata": {},
   "source": [
    "With the exception of the Mauna Loa dataset, these datasets were not in csv format initially. To make it easier to create dataframes using pandas, I saved all my source files as csv files in my working directory. I will edit the dataframes using python before I analyse the data, including renaming column headings. I will also add extra columns to datasets to standardise the figures for time measurement and have the oldest years listed first, so my plots print from oldest years at the left to youngest most recent years at the right.\n",
    "\n",
    "Firstly, I will load up and amend the IPCC CO2 dataset:"
   ]
  },
  {
   "cell_type": "code",
   "execution_count": null,
   "metadata": {},
   "outputs": [],
   "source": [
    "df_co2_ipcc = pd.read_csv(\"CO2_ipcc_csv.csv\")\n",
    "\n",
    "# rename column names of existing dataframe (setting 'inplace' parameter equal to 'True')\n",
    "df_co2_ipcc.rename(columns={'Gasage (yr BP) ': 'Year before 1950', 'CO2 (ppmv)': 'CO2', 'sigma mean CO2 (ppmv)': 'sigma mean CO2'}, inplace=True) \n",
    "\n",
    "# here I am adding a new column called 'Years' to standardise the time measurements across different datasets.\n",
    "# I am adding 73 years to every value in the 'years before 1950' column to effectively convert the column to 'years before 2023'. \n",
    "# I am then multiplying each year by minus 1, so that the column represents years \"in the past\"\n",
    "df_co2_ipcc['Years'] = (df_co2_ipcc['Year before 1950'] + 73) * -1\n",
    "\n",
    "# reversing the order of the dataset, to for the older years to appear on the left-hand side of the x-axis\n",
    "df_co2_ipcc = df_co2_ipcc[::-1]\n",
    "\n",
    "print(df_co2_ipcc)"
   ]
  },
  {
   "cell_type": "markdown",
   "metadata": {},
   "source": [
    "Next, I will load up and amend the 2008 Nature paper dataset:"
   ]
  },
  {
   "cell_type": "code",
   "execution_count": null,
   "metadata": {},
   "outputs": [],
   "source": [
    "df_co2_nature = pd.read_csv(\"CO2_nature_csv.csv\")\n",
    "\n",
    "df_co2_nature.rename(columns={'EDC3_gas_a (yr)': 'Years ago', 'CO2 (ppmv)': 'CO2'}, inplace=True)\n",
    "\n",
    "df_co2_nature['Years'] = (df_co2_nature['Years ago']) * -1\n",
    "\n",
    "df_co2_nature = df_co2_nature[::-1]\n",
    "\n",
    "print(df_co2_nature)"
   ]
  },
  {
   "cell_type": "markdown",
   "metadata": {},
   "source": [
    "Next I will load up the relatively small dataset of from Mauna Loa, containing data for atmospheric CO2 levels:"
   ]
  },
  {
   "cell_type": "code",
   "execution_count": null,
   "metadata": {},
   "outputs": [],
   "source": [
    "df_mauna_loa_csv = pd.read_csv(\"mauna_loa_csv.csv\")\n",
    "\n",
    "# I will create a new column called 'Years', to standardise the measurement of time across the datasets.\n",
    "# I don't need to reverse the rows in this dataset since the earliest year is already in the first row.\n",
    "df_mauna_loa_csv['Years'] = (2023 - df_mauna_loa_csv['year']) * -1\n",
    "\n",
    "print(df_mauna_loa_csv)"
   ]
  },
  {
   "cell_type": "code",
   "execution_count": null,
   "metadata": {},
   "outputs": [],
   "source": []
  },
  {
   "cell_type": "markdown",
   "metadata": {},
   "source": [
    "Next, the \"Jouzel\" temperature data inferred from deuterium levels in ice cores from EPICA Dome C:"
   ]
  },
  {
   "cell_type": "code",
   "execution_count": null,
   "metadata": {},
   "outputs": [],
   "source": [
    "df_temp_jouzel_csv = pd.read_csv(\"temp_jouzel_csv.csv\")\n",
    "\n",
    "df_temp_jouzel_csv.rename(columns={'bag': 'bag', 'ztop': 'depth', 'EDC3béta': 'Years before 1950', 'AICC2012': 'year_new', 'deutfinal': 'deuterium', 'temp': 'temp_Kelvin', 'acc-EDC3beta' : 'acc-EDC3beta'}, inplace=True)\n",
    "\n",
    "# adding a new column called 'Years' to standardise the measurement of time across datasets. The negative figure allows for my graph to print from\n",
    "# oldest date to most recent\n",
    "df_temp_jouzel_csv['Years'] = (df_temp_jouzel_csv['Years before 1950'] + 73) * -1\n",
    "\n",
    "df_temp_jouzel_csv = df_temp_jouzel_csv[::-1]\n",
    "\n",
    "print(df_temp_jouzel_csv)"
   ]
  },
  {
   "cell_type": "code",
   "execution_count": null,
   "metadata": {},
   "outputs": [],
   "source": []
  },
  {
   "cell_type": "code",
   "execution_count": null,
   "metadata": {},
   "outputs": [],
   "source": []
  },
  {
   "cell_type": "code",
   "execution_count": null,
   "metadata": {},
   "outputs": [],
   "source": [
    "plt.figure(figsize= (16,6))\n",
    "plt.title('Atmospheric carbon dioxide concentrations (parts per million by volume) over the past 800000 years')\n",
    "\n",
    "sns.scatterplot(x ='Years', y = 'CO2', data = df_co2_ipcc, size = 40)      # use 'size' parameter to decrease size of markers \n",
    "\n",
    "sns.lineplot(x ='Years', y = 'CO2', data = df_co2_ipcc, color = 'green')"
   ]
  },
  {
   "cell_type": "code",
   "execution_count": null,
   "metadata": {},
   "outputs": [],
   "source": []
  },
  {
   "cell_type": "code",
   "execution_count": null,
   "metadata": {},
   "outputs": [],
   "source": [
    "plt.figure(figsize= (16,6))\n",
    "plt.title('Atmospheric carbon dioxide concentrations (parts per million by volume) over the past 800000 years')\n",
    "\n",
    "sns.scatterplot(x='Years ago', y='CO2', data=df_co2_nature, size = 40)      # use 'size' parameter to decrease size of markers \n",
    "\n",
    "sns.lineplot(x = 'Years ago', y = 'CO2', data = df_co2_nature, color = 'blue')\n"
   ]
  },
  {
   "cell_type": "markdown",
   "metadata": {},
   "source": [
    "### CO2 versus Temperature Anomoly ###"
   ]
  },
  {
   "cell_type": "markdown",
   "metadata": {},
   "source": [
    "### CH4 versus Temperature Anomoly ###"
   ]
  },
  {
   "cell_type": "markdown",
   "metadata": {},
   "source": [
    "### Climate change signals in the Irish context ###"
   ]
  },
  {
   "cell_type": "markdown",
   "metadata": {},
   "source": [
    "### Fusion of datasets ###"
   ]
  },
  {
   "cell_type": "markdown",
   "metadata": {},
   "source": [
    "### Prediction of Global Temperature Anomoly ###"
   ]
  },
  {
   "cell_type": "markdown",
   "metadata": {},
   "source": [
    "### Accelerating increases of temperature ###"
   ]
  },
  {
   "cell_type": "markdown",
   "metadata": {},
   "source": [
    "### Summary ###"
   ]
  },
  {
   "cell_type": "markdown",
   "metadata": {},
   "source": [
    "### References ###"
   ]
  }
 ],
 "metadata": {
  "kernelspec": {
   "display_name": "base",
   "language": "python",
   "name": "python3"
  },
  "language_info": {
   "codemirror_mode": {
    "name": "ipython",
    "version": 3
   },
   "file_extension": ".py",
   "mimetype": "text/x-python",
   "name": "python",
   "nbconvert_exporter": "python",
   "pygments_lexer": "ipython3",
   "version": "3.11.4"
  }
 },
 "nbformat": 4,
 "nbformat_minor": 2
}
